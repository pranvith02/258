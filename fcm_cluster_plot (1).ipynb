
{
 "cells": [
  {
   "cell_type": "code",
   "source": [
    "# Install required packages (for Colab only)\n",
    "!pip install scikit-fuzzy scikit-image matplotlib scikit-learn"
   ],
   "metadata": {},
   "execution_count": null,
   "outputs": []
  },
  {
   "cell_type": "code",
   "source": [
    "import numpy as np\n",
    "import matplotlib.pyplot as plt\n",
    "import skfuzzy as fuzz\n",
    "from skimage import io\n",
    "from sklearn.preprocessing import MinMaxScaler"
   ],
   "metadata": {},
   "execution_count": null,
   "outputs": []
  },
  {
   "cell_type": "code",
   "source": [
    "# Function to load .PGM image and extract 2D points\n",
    "def load_pgm_as_points(filepath, threshold=128):\n",
    "    img = io.imread(filepath)\n",
    "    points = np.column_stack(np.where(img < threshold))\n",
    "    scaler = MinMaxScaler()\n",
    "    return scaler.fit_transform(points)"
   ],
   "metadata": {},
   "execution_count": null,
   "outputs": []
  },
  {
   "cell_type": "code",
   "source": [
    "# Run FCM and plot results with cluster centers\n",
    "def run_fcm_with_centers(data, n_clusters=3, m=2.0, title="FCM Clustering"):\n",
    "    data_t = np.transpose(data)\n",
    "    cntr, u, u0, d, jm, p, fpc = fuzz.cluster.cmeans(\n",
    "        data_t, c=n_clusters, m=m, error=0.005, maxiter=1000, init=None\n",
    "    )\n",
    "    cluster_labels = np.argmax(u, axis=0)\n",
    "    \n",
    "    plt.figure(figsize=(6, 5))\n",
    "    for j in range(n_clusters):\n",
    "        plt.scatter(data[cluster_labels == j, 0], data[cluster_labels == j, 1], label=f"Cluster {j+1}")\n",
    "    plt.scatter(cntr[:, 0], cntr[:, 1], c='red', marker='x', s=200, label='Cluster centers')\n",
    "    plt.title(title)\n",
    "    plt.legend()\n",
    "    plt.grid(True)\n",
    "    plt.show()"
   ],
   "metadata": {},
   "execution_count": null,
   "outputs": []
  },
  {
   "cell_type": "code",
   "source": [
    "# Upload your .PGM file using the left panel in Colab, then update the path below\n",
    "# Example: /content/Five_Clust.PGM\n",
    "file_path = "/content/Five_Clust.PGM"  # Change to your uploaded file path\n",
    "data = load_pgm_as_points(file_path)\n",
    "run_fcm_with_centers(data, n_clusters=3, m=2.0, title="Fuzzy C-Means: Five_Clust.PGM (C=3, q=2.0)")"
   ],
   "metadata": {},
   "execution_count": null,
   "outputs": []
  }
 ],
 "metadata": {
  "kernelspec": {
   "name": "python3",
   "display_name": "Python 3"
  },
  "language_info": {
   "name": "python",
   "version": ""
  }
 },
 "nbformat": 4,
 "nbformat_minor": 5
}
